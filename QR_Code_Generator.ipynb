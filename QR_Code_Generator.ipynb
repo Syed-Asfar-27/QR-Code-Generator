{
  "nbformat": 4,
  "nbformat_minor": 0,
  "metadata": {
    "colab": {
      "provenance": []
    },
    "kernelspec": {
      "name": "python3",
      "display_name": "Python 3"
    },
    "language_info": {
      "name": "python"
    }
  },
  "cells": [
    {
      "cell_type": "code",
      "source": [
        "import qrcode\n",
        "from PIL import Image"
      ],
      "metadata": {
        "id": "fVZV5IwBF-6q"
      },
      "execution_count": 19,
      "outputs": []
    },
    {
      "cell_type": "code",
      "source": [
        "# Function to generate and save a QR code\n",
        "def generate_qr_code(url, file_name):\n",
        "    if not file_name.lower().endswith(\".png\"):\n",
        "        file_name += \".png\"\n",
        "\n",
        "    qr = qrcode.QRCode(\n",
        "        version=1,\n",
        "        error_correction=qrcode.constants.ERROR_CORRECT_L,\n",
        "        box_size=10,\n",
        "        border=4,\n",
        "    )\n",
        "    qr.add_data(url)\n",
        "    qr.make(fit=True)\n",
        "\n",
        "    img = qr.make_image(fill_color=\"black\", back_color=\"white\")\n",
        "    img.save(file_name)"
      ],
      "metadata": {
        "id": "PJ9hcb3-IMZo"
      },
      "execution_count": 20,
      "outputs": []
    },
    {
      "cell_type": "code",
      "source": [
        "def main():\n",
        "    url = input(\"Enter the URL: \")\n",
        "    file_name = input(\"Enter the filename to save the QR code: \")\n",
        "\n",
        "    generate_qr_code(url, file_name)\n",
        "    print(f\"QR code saved as {file_name}\")\n",
        "\n",
        "if __name__ == \"__main__\":\n",
        "    main()"
      ],
      "metadata": {
        "colab": {
          "base_uri": "https://localhost:8080/"
        },
        "id": "U7lqxEm9IRnI",
        "outputId": "06d0618b-4b09-4db4-eda6-71672348b1d2"
      },
      "execution_count": 21,
      "outputs": [
        {
          "output_type": "stream",
          "name": "stdout",
          "text": [
            "Enter the URL: https://www.syedasfar.live/\n",
            "Enter the filename to save the QR code: Asfar`s Website QR Code\n",
            "QR code saved as Asfar`s Website QR Code\n"
          ]
        }
      ]
    }
  ]
}